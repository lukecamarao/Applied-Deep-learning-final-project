{
  "nbformat": 4,
  "nbformat_minor": 0,
  "metadata": {
    "colab": {
      "provenance": []
    },
    "kernelspec": {
      "name": "python3",
      "display_name": "Python 3"
    },
    "language_info": {
      "name": "python"
    }
  },
  "cells": [
    {
      "cell_type": "code",
      "execution_count": 1,
      "metadata": {
        "colab": {
          "base_uri": "https://localhost:8080/"
        },
        "id": "X4WunZQ6e5fa",
        "outputId": "316db10f-df02-4b20-82bd-4c6b9e610037"
      },
      "outputs": [
        {
          "output_type": "stream",
          "name": "stdout",
          "text": [
            "Mounted at /content/drive\n"
          ]
        }
      ],
      "source": [
        "from google.colab import drive\n",
        "drive.mount('/content/drive')\n"
      ]
    },
    {
      "source": [
        "\n",
        "import os\n",
        "import shutil\n",
        "\n",
        "def append_npy_folders(source_folder, destination_folder):\n",
        "  \"\"\"Appends all .npy files from the source folder to the destination folder.\n",
        "\n",
        "  Args:\n",
        "    source_folder: The path to the source folder containing .npy files.\n",
        "    destination_folder: The path to the destination folder.\n",
        "  \"\"\"\n",
        "\n",
        "  for file in os.listdir(source_folder):\n",
        "    if file.endswith(\".npy\"):\n",
        "      source_file = os.path.join(source_folder, file)\n",
        "      destination_file = os.path.join(destination_folder, file)\n",
        "      shutil.copy2(source_file, destination_file)\n",
        "\n"
      ],
      "cell_type": "code",
      "metadata": {
        "id": "1ObAOzDofJQL"
      },
      "execution_count": 2,
      "outputs": []
    },
    {
      "cell_type": "code",
      "source": [
        "source_folder = \"/content/drive/MyDrive/MRNet-v1.0/valid/axial\"\n",
        "destination_folder = \"/content/drive/MyDrive/MRNet-v1.0/train/axial\"\n",
        "\n",
        "append_npy_folders(source_folder, destination_folder)"
      ],
      "metadata": {
        "id": "pylYuaMLNwyk"
      },
      "execution_count": null,
      "outputs": []
    },
    {
      "cell_type": "code",
      "source": [
        "\n",
        "source_folder = \"/content/drive/MyDrive/MRNet-v1.0/valid/sagittal\"\n",
        "destination_folder = \"/content/drive/MyDrive/MRNet-v1.0/train/sagittal\"\n",
        "append_npy_folders(source_folder, destination_folder)"
      ],
      "metadata": {
        "id": "HffJ79Wxe85O"
      },
      "execution_count": 6,
      "outputs": []
    },
    {
      "cell_type": "code",
      "source": [
        "\n",
        "source_folder = \"/content/drive/MyDrive/MRNet-v1.0/valid/coronal\"\n",
        "destination_folder = \"/content/drive/MyDrive/MRNet-v1.0/train/coronal\"\n",
        "\n",
        "append_npy_folders(source_folder, destination_folder)"
      ],
      "metadata": {
        "id": "7zfYVu0cNmc2"
      },
      "execution_count": 3,
      "outputs": []
    }
  ]
}